{
 "cells": [
  {
   "cell_type": "code",
   "execution_count": 2,
   "metadata": {},
   "outputs": [],
   "source": [
    "import os\n",
    "import os.path as osp\n",
    "from glob import glob\n",
    "\n",
    "for r in [\"7\", \"6\", \"4\"]:\n",
    "    for t1, t2 in zip([0.1, 0.11, 0.12, 0.13, 0.14, 0.15, 0.16], [0.9, 0.89, 0.88, 0.87, 0.86, 0.85, 0.84]):\n",
    "        RESTRUCTURE_DIR = f\"/home/phucnp/workspace/XFace/data/MTMC_Dataset/evaluation/VTXTrackerv103_{t1}_{t2}_{r}\"\n",
    "        TARGET_DIR = RESTRUCTURE_DIR + \"_restructure\"\n",
    "\n",
    "        for scene in os.listdir(RESTRUCTURE_DIR):\n",
    "            scene_path = osp.join(RESTRUCTURE_DIR, scene)\n",
    "            target_scene_path = osp.join(TARGET_DIR, scene)\n",
    "            \n",
    "            mots = glob(osp.join(scene_path, \"*/mot/*.txt\"))\n",
    "            mtmcs = glob(osp.join(scene_path, \"*/mtmc/*.txt\"))\n",
    "            if osp.exists(target_scene_path):\n",
    "                os.system(f\"rm -rf {target_scene_path}\")\n",
    "            \n",
    "            target_mot_dir = osp.join(target_scene_path, \"mot\")\n",
    "            target_mtmc_dir = osp.join(target_scene_path, \"mtmc\")\n",
    "            os.makedirs(target_mot_dir, exist_ok=True)\n",
    "            os.makedirs(target_mtmc_dir, exist_ok=True)\n",
    "            \n",
    "            [os.system(f\"cp {mot} {target_mot_dir}\") for mot in mots]\n",
    "            [os.system(f\"cp {mtmc} {target_mtmc_dir}\") for mtmc in mtmcs]"
   ]
  },
  {
   "cell_type": "code",
   "execution_count": 1,
   "metadata": {},
   "outputs": [],
   "source": [
    "import os\n",
    "import os.path as osp\n",
    "from glob import glob\n",
    "\n",
    "RESTRUCTURE_DIR = f\"/home/anhttt16/lvm_workspace/MTMC/MTMC_Evaluate_2025/infer/MODEL_103\"\n",
    "TARGET_DIR = RESTRUCTURE_DIR + \"_restructure\"\n",
    "\n",
    "for scene in os.listdir(RESTRUCTURE_DIR):\n",
    "    scene_path = osp.join(RESTRUCTURE_DIR, scene)\n",
    "    target_scene_path = osp.join(TARGET_DIR, scene)\n",
    "    \n",
    "    mots = glob(osp.join(scene_path, \"*/mot/*.txt\"))\n",
    "    mtmcs = glob(osp.join(scene_path, \"*/mtmc/*.txt\"))\n",
    "    if osp.exists(target_scene_path):\n",
    "        os.system(f\"rm -rf {target_scene_path}\")\n",
    "    \n",
    "    target_mot_dir = osp.join(target_scene_path, \"mot\")\n",
    "    target_mtmc_dir = osp.join(target_scene_path, \"mtmc\")\n",
    "    os.makedirs(target_mot_dir, exist_ok=True)\n",
    "    os.makedirs(target_mtmc_dir, exist_ok=True)\n",
    "    \n",
    "    [os.system(f\"cp {mot} {target_mot_dir}\") for mot in mots]\n",
    "    [os.system(f\"cp {mtmc} {target_mtmc_dir}\") for mtmc in mtmcs]"
   ]
  },
  {
   "cell_type": "code",
   "execution_count": 3,
   "metadata": {},
   "outputs": [
    {
     "data": {
      "text/plain": [
       "[None,\n",
       " None,\n",
       " None,\n",
       " None,\n",
       " None,\n",
       " None,\n",
       " None,\n",
       " None,\n",
       " None,\n",
       " None,\n",
       " None,\n",
       " None,\n",
       " None,\n",
       " None,\n",
       " None,\n",
       " None,\n",
       " None,\n",
       " None,\n",
       " None,\n",
       " None,\n",
       " None,\n",
       " None,\n",
       " None,\n",
       " None,\n",
       " None,\n",
       " None,\n",
       " None,\n",
       " None,\n",
       " None,\n",
       " None,\n",
       " None]"
      ]
     },
     "execution_count": 3,
     "metadata": {},
     "output_type": "execute_result"
    }
   ],
   "source": [
    "import os.path as osp\n",
    "import shutil\n",
    "from glob import glob\n",
    "\n",
    "NAME = \"VTXTrackerv103\"\n",
    "TARGET = \"VTXTrackerv1\"\n",
    "PARENT_DIR = \"/home/phucnp/workspace/XFace/data/MTMC_Dataset/evaluation\"\n",
    "\n",
    "FROM_DIR = osp.join(PARENT_DIR, NAME)\n",
    "TO_DIR = osp.join(PARENT_DIR, TARGET)\n",
    "\n",
    "shutil.copytree(FROM_DIR, TO_DIR)\n",
    "\n",
    "dets = glob(osp.join(TO_DIR, \"*/*/det\"))\n",
    "mots = glob(osp.join(TO_DIR, \"*/*/mot\"))\n",
    "mtmcs = glob(osp.join(TO_DIR, \"*/*/mtmc\"))\n",
    "vizs = glob(osp.join(TO_DIR, \"*/viz\"))\n",
    "merges = glob(osp.join(TO_DIR, \"*/merge.mp4\"))\n",
    "\n",
    "[shutil.rmtree(det) for det in dets]\n",
    "[shutil.rmtree(mot) for mot in mots]\n",
    "[shutil.rmtree(mtmc) for mtmc in mtmcs]\n",
    "[shutil.rmtree(viz) for viz in vizs]\n",
    "[os.remove(merge) for merge in merges]\n"
   ]
  }
 ],
 "metadata": {
  "kernelspec": {
   "display_name": "MTMC",
   "language": "python",
   "name": "python3"
  },
  "language_info": {
   "codemirror_mode": {
    "name": "ipython",
    "version": 3
   },
   "file_extension": ".py",
   "mimetype": "text/x-python",
   "name": "python",
   "nbconvert_exporter": "python",
   "pygments_lexer": "ipython3",
   "version": "3.9.0"
  }
 },
 "nbformat": 4,
 "nbformat_minor": 2
}
